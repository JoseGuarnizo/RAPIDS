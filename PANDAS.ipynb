{
  "nbformat": 4,
  "nbformat_minor": 0,
  "metadata": {
    "colab": {
      "name": "PANDAS",
      "provenance": [],
      "collapsed_sections": [],
      "include_colab_link": true
    },
    "kernelspec": {
      "name": "python3",
      "display_name": "Python 3"
    }
  },
  "cells": [
    {
      "cell_type": "markdown",
      "metadata": {
        "id": "view-in-github",
        "colab_type": "text"
      },
      "source": [
        "<a href=\"https://colab.research.google.com/github/JoseGuarnizo/RAPIDS/blob/master/PANDAS.ipynb\" target=\"_parent\"><img src=\"https://colab.research.google.com/assets/colab-badge.svg\" alt=\"Open In Colab\"/></a>"
      ]
    },
    {
      "cell_type": "code",
      "metadata": {
        "id": "4feUD1p0fzqv",
        "colab_type": "code",
        "colab": {}
      },
      "source": [
        "import pandas as pd \n",
        "import numpy as np\n",
        "import os\n",
        "import csv\n",
        "import io\n",
        "import json\n",
        "import ast\n",
        "import datetime as dt\n",
        "from pandas.io.json import json_normalize \n",
        "from pandas import Series, DataFrame\n",
        "from ast import literal_eval"
      ],
      "execution_count": null,
      "outputs": []
    },
    {
      "cell_type": "code",
      "metadata": {
        "id": "8DpH7IU6zdEl",
        "colab_type": "code",
        "cellView": "code",
        "colab": {}
      },
      "source": [
        "#Cargar data desde la maquina local a google colabority\n",
        "from google.colab import files\n",
        "\n",
        "carga = files.upload()"
      ],
      "execution_count": null,
      "outputs": []
    },
    {
      "cell_type": "code",
      "metadata": {
        "id": "dRWrSz_R1UVV",
        "colab_type": "code",
        "cellView": "code",
        "colab": {}
      },
      "source": [
        "#Proceso de Extracción\n",
        "\n",
        "#Carga data en una variable\n",
        "missing_values = [\" \"]\n",
        "carga = pd.read_csv('df.csv', names='uno', na_values= missing_values)"
      ],
      "execution_count": null,
      "outputs": []
    },
    {
      "cell_type": "code",
      "metadata": {
        "id": "hf-4G8xp5jCM",
        "colab_type": "code",
        "colab": {}
      },
      "source": [
        "#convertir en list y despues en json\n",
        "data2 = list(carga['u'])\n",
        "da = []\n",
        "for i in range(0,len(data2)):\n",
        "    d = data2[i].split('.gz:')\n",
        "    da.append(json.loads((d[1])))"
      ],
      "execution_count": null,
      "outputs": []
    },
    {
      "cell_type": "code",
      "metadata": {
        "id": "m6G_o5-F5nrH",
        "colab_type": "code",
        "colab": {}
      },
      "source": [
        "#Construcción DataFrame\n",
        "new_data = pd.DataFrame(da)\n",
        "new_data"
      ],
      "execution_count": null,
      "outputs": []
    },
    {
      "cell_type": "code",
      "metadata": {
        "id": "dnpyxIlu8OCQ",
        "colab_type": "code",
        "colab": {}
      },
      "source": [
        "#Información de todo el DataFrame\n",
        "new_data.columns\n",
        "new_data.shape\n",
        "new_data.dtypes"
      ],
      "execution_count": null,
      "outputs": []
    },
    {
      "cell_type": "code",
      "metadata": {
        "id": "ogoPKyLOsXz9",
        "colab_type": "code",
        "colab": {}
      },
      "source": [
        "#Verificación de tipo de datos por columna\n",
        "new_data['event_type'].head()"
      ],
      "execution_count": null,
      "outputs": []
    },
    {
      "cell_type": "code",
      "metadata": {
        "id": "EgNXeyncuNNC",
        "colab_type": "code",
        "colab": {}
      },
      "source": [
        "#Proceso de Transformación\n",
        "#Eliminar columnas que no son necesarias\n",
        "new_infor = new_data.drop(['accept_language', 'agent', 'page',\n",
        "                           'session', 'event_type'], axis=1)"
      ],
      "execution_count": null,
      "outputs": []
    },
    {
      "cell_type": "code",
      "metadata": {
        "id": "_YND2FKivfc2",
        "colab_type": "code",
        "colab": {}
      },
      "source": [
        "#Verificar nuevamente la data\n",
        "new_infor"
      ],
      "execution_count": null,
      "outputs": []
    },
    {
      "cell_type": "code",
      "metadata": {
        "id": "K-9HcQr6wFcf",
        "colab_type": "code",
        "colab": {}
      },
      "source": [
        "#Proceso Transformacion\n",
        "\n",
        "#Dividir columna context\n",
        "\n",
        "contextData = new_infor['context'].values.tolist()\n",
        "\n",
        "new_contextData = pd.DataFrame(contextData, columns= ['course_user_tags',\n",
        "                                                      'course_id', 'path',\n",
        "                                                      'org_id', 'user_id'])\n",
        "\n",
        "new_contextInfo = new_contextData.drop(['course_user_tags', 'course_id',\n",
        "                                        'path'], axis=1)\n",
        "new_contextInfo"
      ],
      "execution_count": null,
      "outputs": []
    },
    {
      "cell_type": "code",
      "metadata": {
        "id": "3JnCWiiaGmcP",
        "colab_type": "code",
        "colab": {}
      },
      "source": [
        "context_info = new_contextInfo.drop([\"user_id\"], axis=1)\n",
        "context_info"
      ],
      "execution_count": null,
      "outputs": []
    },
    {
      "cell_type": "code",
      "metadata": {
        "id": "4QRd-IO64269",
        "colab_type": "code",
        "colab": {}
      },
      "source": [
        "#ver datos columna event\n",
        "new_infor['event']"
      ],
      "execution_count": null,
      "outputs": []
    },
    {
      "cell_type": "code",
      "metadata": {
        "id": "tr3RaG7XwFwH",
        "colab_type": "code",
        "colab": {}
      },
      "source": [
        "#Proceso de Transformación\n",
        "\n",
        "#Dividir columna event\n",
        "\n",
        "dat = new_infor['event'].values.tolist()\n",
        "valore = []\n",
        "\n",
        "for i in range(0,len(dat)):\n",
        "    if (type(dat[i])==str):\n",
        "        try:\n",
        "            valor = json.loads(dat[i])\n",
        "        except ValueError as e:\n",
        "            print('mal')\n",
        "        dat[i]=valor\n",
        "        valore.append(dat[i])\n",
        "    else:\n",
        "        valore.append(dat[i])\n",
        "valore"
      ],
      "execution_count": null,
      "outputs": []
    },
    {
      "cell_type": "code",
      "metadata": {
        "id": "V767zqLOMO0C",
        "colab_type": "code",
        "colab": {}
      },
      "source": [
        "#Creación nuevo dataframe de subcolumnas de la columna Event\n",
        "nuevoEvent = pd.DataFrame(valore)\n",
        "nuevoEvent"
      ],
      "execution_count": null,
      "outputs": []
    },
    {
      "cell_type": "code",
      "metadata": {
        "id": "Va9R8-gFu1l6",
        "colab_type": "code",
        "colab": {}
      },
      "source": [
        "#Eliminar columnas innecesarias de data event\n",
        "new_eventInfo = nuevoEvent.drop(['course_id', 'mode'], axis=1)\n",
        "new_eventInfo.head()"
      ],
      "execution_count": null,
      "outputs": []
    },
    {
      "cell_type": "code",
      "metadata": {
        "id": "B-EpVG8A4ZcI",
        "colab_type": "code",
        "colab": {}
      },
      "source": [
        "\n",
        "#Eliminar columna GET no tiene datos importantes de data event\n",
        "ver = new_eventInfo.drop(['GET'], axis=1)\n",
        "ver"
      ],
      "execution_count": null,
      "outputs": []
    },
    {
      "cell_type": "code",
      "metadata": {
        "id": "orFczRWJsYps",
        "colab_type": "code",
        "colab": {}
      },
      "source": [
        "#Dividiendo columna POST e incorporando a data event general\n",
        "nuevovalorEventPost = pd.concat([ver.drop(['POST'], axis=1),\n",
        "           ver.POST.apply(pd.Series)], axis=1)\n",
        "\n",
        "newDataEvent = nuevovalorEventPost.drop([0], axis=1)\n",
        "newDataEvent"
      ],
      "execution_count": null,
      "outputs": []
    },
    {
      "cell_type": "code",
      "metadata": {
        "id": "ffswI9-Qc3Df",
        "colab_type": "code",
        "colab": {
          "base_uri": "https://localhost:8080/",
          "height": 35
        },
        "outputId": "af726e28-91e7-40d9-ed86-73d306fef837"
      },
      "source": [
        "new_infor.equals(context_info)"
      ],
      "execution_count": null,
      "outputs": [
        {
          "output_type": "execute_result",
          "data": {
            "text/plain": [
              "False"
            ]
          },
          "metadata": {
            "tags": []
          },
          "execution_count": 101
        }
      ]
    },
    {
      "cell_type": "code",
      "metadata": {
        "id": "2uRqqHnWCLH6",
        "colab_type": "code",
        "colab": {}
      },
      "source": [
        "#Incorporar columna nueva Event a la data general\n",
        "frames = [new_infor, newDataEvent, context_info]\n",
        "\n",
        "generalData = pd.concat(frames,  axis=1, sort=False)\n",
        "generalData.head()"
      ],
      "execution_count": null,
      "outputs": []
    },
    {
      "cell_type": "code",
      "metadata": {
        "id": "giHOyYfRP5Vp",
        "colab_type": "code",
        "colab": {}
      },
      "source": [
        "#Data trata\n",
        "generalDataNew = generalData.drop(['context', 'event',\n",
        "                                   'honor_code', 'password'], axis=1)\n",
        "generalDataNew.head()"
      ],
      "execution_count": null,
      "outputs": []
    },
    {
      "cell_type": "code",
      "metadata": {
        "id": "Pbf1C8PbQnXk",
        "colab_type": "code",
        "colab": {}
      },
      "source": [
        "generalDataNew.columns\n",
        "generalDataNew.shape\n",
        "generalDataNew.isna().sum()\n",
        "generalDataNew.dtypes"
      ],
      "execution_count": null,
      "outputs": []
    },
    {
      "cell_type": "code",
      "metadata": {
        "id": "UtqiNfjqakTp",
        "colab_type": "code",
        "colab": {
          "base_uri": "https://localhost:8080/",
          "height": 104
        },
        "outputId": "54c4773f-5696-41e2-d2e7-0ed65231c13e"
      },
      "source": [
        "#calcular la media columna user_id\n",
        "median = generalDataNew['user_id'].median()\n",
        "generalDataNew['user_id'].fillna(median, inplace=True)\n"
      ],
      "execution_count": null,
      "outputs": [
        {
          "output_type": "stream",
          "text": [
            "/usr/local/lib/python3.6/dist-packages/pandas/core/generic.py:6245: SettingWithCopyWarning: \n",
            "A value is trying to be set on a copy of a slice from a DataFrame\n",
            "\n",
            "See the caveats in the documentation: https://pandas.pydata.org/pandas-docs/stable/user_guide/indexing.html#returning-a-view-versus-a-copy\n",
            "  self._update_inplace(new_data)\n"
          ],
          "name": "stderr"
        }
      ]
    },
    {
      "cell_type": "code",
      "metadata": {
        "id": "RzmAAC6Yq3SQ",
        "colab_type": "code",
        "colab": {
          "base_uri": "https://localhost:8080/",
          "height": 626
        },
        "outputId": "c9691766-b473-4133-8d67-0694fa2223c3"
      },
      "source": [
        "generalDataNew"
      ],
      "execution_count": null,
      "outputs": [
        {
          "output_type": "execute_result",
          "data": {
            "text/html": [
              "<div>\n",
              "<style scoped>\n",
              "    .dataframe tbody tr th:only-of-type {\n",
              "        vertical-align: middle;\n",
              "    }\n",
              "\n",
              "    .dataframe tbody tr th {\n",
              "        vertical-align: top;\n",
              "    }\n",
              "\n",
              "    .dataframe thead th {\n",
              "        text-align: right;\n",
              "    }\n",
              "</style>\n",
              "<table border=\"1\" class=\"dataframe\">\n",
              "  <thead>\n",
              "    <tr style=\"text-align: right;\">\n",
              "      <th></th>\n",
              "      <th>username</th>\n",
              "      <th>event_source</th>\n",
              "      <th>name</th>\n",
              "      <th>time</th>\n",
              "      <th>host</th>\n",
              "      <th>referer</th>\n",
              "      <th>ip</th>\n",
              "      <th>user_id</th>\n",
              "      <th>analytics</th>\n",
              "      <th>city</th>\n",
              "      <th>country</th>\n",
              "      <th>course_id</th>\n",
              "      <th>email</th>\n",
              "      <th>enrollment_action</th>\n",
              "      <th>gender</th>\n",
              "      <th>goals</th>\n",
              "      <th>level_of_education</th>\n",
              "      <th>mailing_address</th>\n",
              "      <th>name</th>\n",
              "      <th>notifyOnError</th>\n",
              "      <th>remember</th>\n",
              "      <th>username</th>\n",
              "      <th>year_of_birth</th>\n",
              "      <th>org_id</th>\n",
              "    </tr>\n",
              "  </thead>\n",
              "  <tbody>\n",
              "    <tr>\n",
              "      <th>0</th>\n",
              "      <td></td>\n",
              "      <td>server</td>\n",
              "      <td>edx.course.enrollment.activated</td>\n",
              "      <td>2017-11-10T14:34:24.674569+00:00</td>\n",
              "      <td></td>\n",
              "      <td></td>\n",
              "      <td></td>\n",
              "      <td>258.0</td>\n",
              "      <td>NaN</td>\n",
              "      <td>NaN</td>\n",
              "      <td>NaN</td>\n",
              "      <td>NaN</td>\n",
              "      <td>NaN</td>\n",
              "      <td>NaN</td>\n",
              "      <td>NaN</td>\n",
              "      <td>NaN</td>\n",
              "      <td>NaN</td>\n",
              "      <td>NaN</td>\n",
              "      <td>NaN</td>\n",
              "      <td>NaN</td>\n",
              "      <td>NaN</td>\n",
              "      <td>NaN</td>\n",
              "      <td>NaN</td>\n",
              "      <td>UTPL</td>\n",
              "    </tr>\n",
              "    <tr>\n",
              "      <th>1</th>\n",
              "      <td></td>\n",
              "      <td>server</td>\n",
              "      <td>NaN</td>\n",
              "      <td>2017-11-10T15:01:30.054897+00:00</td>\n",
              "      <td>opencampus.utpl.edu.ec</td>\n",
              "      <td></td>\n",
              "      <td>66.249.64.64</td>\n",
              "      <td>NaN</td>\n",
              "      <td>NaN</td>\n",
              "      <td>NaN</td>\n",
              "      <td>NaN</td>\n",
              "      <td>NaN</td>\n",
              "      <td>NaN</td>\n",
              "      <td>NaN</td>\n",
              "      <td>NaN</td>\n",
              "      <td>NaN</td>\n",
              "      <td>NaN</td>\n",
              "      <td>NaN</td>\n",
              "      <td>NaN</td>\n",
              "      <td>NaN</td>\n",
              "      <td>NaN</td>\n",
              "      <td>NaN</td>\n",
              "      <td>NaN</td>\n",
              "      <td>UTPL</td>\n",
              "    </tr>\n",
              "    <tr>\n",
              "      <th>2</th>\n",
              "      <td></td>\n",
              "      <td>server</td>\n",
              "      <td>NaN</td>\n",
              "      <td>2017-11-10T15:32:28.277486+00:00</td>\n",
              "      <td>opencampus.utpl.edu.ec</td>\n",
              "      <td>http://opencampus.utpl.edu.ec/</td>\n",
              "      <td>190.110.206.116</td>\n",
              "      <td>NaN</td>\n",
              "      <td>NaN</td>\n",
              "      <td>NaN</td>\n",
              "      <td>NaN</td>\n",
              "      <td>NaN</td>\n",
              "      <td>NaN</td>\n",
              "      <td>NaN</td>\n",
              "      <td>NaN</td>\n",
              "      <td>NaN</td>\n",
              "      <td>NaN</td>\n",
              "      <td>NaN</td>\n",
              "      <td>NaN</td>\n",
              "      <td>NaN</td>\n",
              "      <td>NaN</td>\n",
              "      <td>NaN</td>\n",
              "      <td>NaN</td>\n",
              "      <td>UTPL</td>\n",
              "    </tr>\n",
              "    <tr>\n",
              "      <th>3</th>\n",
              "      <td></td>\n",
              "      <td>server</td>\n",
              "      <td>NaN</td>\n",
              "      <td>2017-11-10T15:32:29.041853+00:00</td>\n",
              "      <td>opencampus.utpl.edu.ec</td>\n",
              "      <td>http://opencampus.utpl.edu.ec/courses/course-v...</td>\n",
              "      <td>190.110.206.116</td>\n",
              "      <td>NaN</td>\n",
              "      <td>NaN</td>\n",
              "      <td>NaN</td>\n",
              "      <td>NaN</td>\n",
              "      <td>NaN</td>\n",
              "      <td>NaN</td>\n",
              "      <td>NaN</td>\n",
              "      <td>NaN</td>\n",
              "      <td>NaN</td>\n",
              "      <td>NaN</td>\n",
              "      <td>NaN</td>\n",
              "      <td>NaN</td>\n",
              "      <td>NaN</td>\n",
              "      <td>NaN</td>\n",
              "      <td>NaN</td>\n",
              "      <td>NaN</td>\n",
              "      <td></td>\n",
              "    </tr>\n",
              "    <tr>\n",
              "      <th>4</th>\n",
              "      <td></td>\n",
              "      <td>server</td>\n",
              "      <td>NaN</td>\n",
              "      <td>2017-11-10T16:58:38.328698+00:00</td>\n",
              "      <td>opencampus.utpl.edu.ec</td>\n",
              "      <td>http://opencampus.utpl.edu.ec/</td>\n",
              "      <td>172.17.24.79</td>\n",
              "      <td>NaN</td>\n",
              "      <td>NaN</td>\n",
              "      <td>NaN</td>\n",
              "      <td>NaN</td>\n",
              "      <td>NaN</td>\n",
              "      <td>NaN</td>\n",
              "      <td>NaN</td>\n",
              "      <td>NaN</td>\n",
              "      <td>NaN</td>\n",
              "      <td>NaN</td>\n",
              "      <td>NaN</td>\n",
              "      <td>NaN</td>\n",
              "      <td>NaN</td>\n",
              "      <td>NaN</td>\n",
              "      <td>NaN</td>\n",
              "      <td>NaN</td>\n",
              "      <td>UTPL</td>\n",
              "    </tr>\n",
              "    <tr>\n",
              "      <th>...</th>\n",
              "      <td>...</td>\n",
              "      <td>...</td>\n",
              "      <td>...</td>\n",
              "      <td>...</td>\n",
              "      <td>...</td>\n",
              "      <td>...</td>\n",
              "      <td>...</td>\n",
              "      <td>...</td>\n",
              "      <td>...</td>\n",
              "      <td>...</td>\n",
              "      <td>...</td>\n",
              "      <td>...</td>\n",
              "      <td>...</td>\n",
              "      <td>...</td>\n",
              "      <td>...</td>\n",
              "      <td>...</td>\n",
              "      <td>...</td>\n",
              "      <td>...</td>\n",
              "      <td>...</td>\n",
              "      <td>...</td>\n",
              "      <td>...</td>\n",
              "      <td>...</td>\n",
              "      <td>...</td>\n",
              "      <td>...</td>\n",
              "    </tr>\n",
              "    <tr>\n",
              "      <th>995</th>\n",
              "      <td>dicc</td>\n",
              "      <td>server</td>\n",
              "      <td>NaN</td>\n",
              "      <td>2017-11-21T22:09:11.659918+00:00</td>\n",
              "      <td>opencampus.utpl.edu.ec</td>\n",
              "      <td>http://opencampus.utpl.edu.ec/courses/course-v...</td>\n",
              "      <td>200.125.216.91</td>\n",
              "      <td>NaN</td>\n",
              "      <td>NaN</td>\n",
              "      <td>NaN</td>\n",
              "      <td>NaN</td>\n",
              "      <td>NaN</td>\n",
              "      <td>NaN</td>\n",
              "      <td>NaN</td>\n",
              "      <td>NaN</td>\n",
              "      <td>NaN</td>\n",
              "      <td>NaN</td>\n",
              "      <td>NaN</td>\n",
              "      <td>NaN</td>\n",
              "      <td>NaN</td>\n",
              "      <td>NaN</td>\n",
              "      <td>NaN</td>\n",
              "      <td>NaN</td>\n",
              "      <td></td>\n",
              "    </tr>\n",
              "    <tr>\n",
              "      <th>996</th>\n",
              "      <td>dicc</td>\n",
              "      <td>server</td>\n",
              "      <td>NaN</td>\n",
              "      <td>2017-11-21T22:10:03.295806+00:00</td>\n",
              "      <td>opencampus.utpl.edu.ec</td>\n",
              "      <td>http://opencampus.utpl.edu.ec/courses/course-v...</td>\n",
              "      <td>200.125.216.91</td>\n",
              "      <td>NaN</td>\n",
              "      <td>NaN</td>\n",
              "      <td>NaN</td>\n",
              "      <td>NaN</td>\n",
              "      <td>[course-v1:UTPL+EFHE-Ed7+2017_DIC]</td>\n",
              "      <td>NaN</td>\n",
              "      <td>[enroll]</td>\n",
              "      <td>NaN</td>\n",
              "      <td>NaN</td>\n",
              "      <td>NaN</td>\n",
              "      <td>NaN</td>\n",
              "      <td>NaN</td>\n",
              "      <td>NaN</td>\n",
              "      <td>NaN</td>\n",
              "      <td>NaN</td>\n",
              "      <td>NaN</td>\n",
              "      <td></td>\n",
              "    </tr>\n",
              "    <tr>\n",
              "      <th>997</th>\n",
              "      <td>dicc</td>\n",
              "      <td>server</td>\n",
              "      <td>edx.course.enrollment.activated</td>\n",
              "      <td>2017-11-21T22:10:03.370828+00:00</td>\n",
              "      <td>opencampus.utpl.edu.ec</td>\n",
              "      <td>http://opencampus.utpl.edu.ec/courses/course-v...</td>\n",
              "      <td>200.125.216.91</td>\n",
              "      <td>13907.0</td>\n",
              "      <td>NaN</td>\n",
              "      <td>NaN</td>\n",
              "      <td>NaN</td>\n",
              "      <td>NaN</td>\n",
              "      <td>NaN</td>\n",
              "      <td>NaN</td>\n",
              "      <td>NaN</td>\n",
              "      <td>NaN</td>\n",
              "      <td>NaN</td>\n",
              "      <td>NaN</td>\n",
              "      <td>NaN</td>\n",
              "      <td>NaN</td>\n",
              "      <td>NaN</td>\n",
              "      <td>NaN</td>\n",
              "      <td>NaN</td>\n",
              "      <td>UTPL</td>\n",
              "    </tr>\n",
              "    <tr>\n",
              "      <th>998</th>\n",
              "      <td>dicc</td>\n",
              "      <td>server</td>\n",
              "      <td>NaN</td>\n",
              "      <td>2017-11-21T22:10:03.460488+00:00</td>\n",
              "      <td>opencampus.utpl.edu.ec</td>\n",
              "      <td>http://opencampus.utpl.edu.ec/courses/course-v...</td>\n",
              "      <td>200.125.216.91</td>\n",
              "      <td>NaN</td>\n",
              "      <td>NaN</td>\n",
              "      <td>NaN</td>\n",
              "      <td>NaN</td>\n",
              "      <td>NaN</td>\n",
              "      <td>NaN</td>\n",
              "      <td>NaN</td>\n",
              "      <td>NaN</td>\n",
              "      <td>NaN</td>\n",
              "      <td>NaN</td>\n",
              "      <td>NaN</td>\n",
              "      <td>NaN</td>\n",
              "      <td>NaN</td>\n",
              "      <td>NaN</td>\n",
              "      <td>NaN</td>\n",
              "      <td>NaN</td>\n",
              "      <td></td>\n",
              "    </tr>\n",
              "    <tr>\n",
              "      <th>999</th>\n",
              "      <td></td>\n",
              "      <td>server</td>\n",
              "      <td>NaN</td>\n",
              "      <td>2017-11-21T22:13:04.978585+00:00</td>\n",
              "      <td>opencampus.utpl.edu.ec</td>\n",
              "      <td>http://opencampus.utpl.edu.ec/</td>\n",
              "      <td>186.4.211.103</td>\n",
              "      <td>NaN</td>\n",
              "      <td>NaN</td>\n",
              "      <td>NaN</td>\n",
              "      <td>NaN</td>\n",
              "      <td>NaN</td>\n",
              "      <td>NaN</td>\n",
              "      <td>NaN</td>\n",
              "      <td>NaN</td>\n",
              "      <td>NaN</td>\n",
              "      <td>NaN</td>\n",
              "      <td>NaN</td>\n",
              "      <td>NaN</td>\n",
              "      <td>NaN</td>\n",
              "      <td>NaN</td>\n",
              "      <td>NaN</td>\n",
              "      <td>NaN</td>\n",
              "      <td>UTPL</td>\n",
              "    </tr>\n",
              "  </tbody>\n",
              "</table>\n",
              "<p>1000 rows × 24 columns</p>\n",
              "</div>"
            ],
            "text/plain": [
              "    username event_source  ... year_of_birth org_id\n",
              "0                  server  ...           NaN   UTPL\n",
              "1                  server  ...           NaN   UTPL\n",
              "2                  server  ...           NaN   UTPL\n",
              "3                  server  ...           NaN       \n",
              "4                  server  ...           NaN   UTPL\n",
              "..       ...          ...  ...           ...    ...\n",
              "995     dicc       server  ...           NaN       \n",
              "996     dicc       server  ...           NaN       \n",
              "997     dicc       server  ...           NaN   UTPL\n",
              "998     dicc       server  ...           NaN       \n",
              "999                server  ...           NaN   UTPL\n",
              "\n",
              "[1000 rows x 24 columns]"
            ]
          },
          "metadata": {
            "tags": []
          },
          "execution_count": 128
        }
      ]
    }
  ]
}