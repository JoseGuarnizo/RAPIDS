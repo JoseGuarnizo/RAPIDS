{
 "cells": [
  {
   "cell_type": "code",
   "execution_count": 1,
   "metadata": {},
   "outputs": [],
   "source": [
    "import cudf, cuml, cugraph\n",
    "import numpy as np\n",
    "\n",
    "from cuml.preprocessing.model_selection import train_test_split\n",
    "from cuml.preprocessing.LabelEncoder import LabelEncoder"
   ]
  },
  {
   "cell_type": "code",
   "execution_count": 140,
   "metadata": {},
   "outputs": [],
   "source": [
    "#extraccion datasets\n",
    "data_train = cudf.read_csv('dataTitanic/train.csv')\n",
    "data_test = cudf.read_csv('dataTitanic/test.csv')"
   ]
  },
  {
   "cell_type": "code",
   "execution_count": null,
   "metadata": {},
   "outputs": [],
   "source": [
    "#Verificar toda la informacion de la data train\n",
    "print('Datos generales del Dataset Train:', data_train.head(10))\n",
    "print('Verificar dimensión del Dataset Train:', data_train.shape)\n",
    "print('Verificar valores nulos por cada columna Train:', data_train.isnull().sum())\n",
    "\n",
    "#Verificar toda la informacion de la data test\n",
    "print('Datos generales del Dataset Test:', data_test.head())\n",
    "print('Verificar dimensión del Dataset Test:', data_test.shape)\n",
    "print('Verificar valores nulos por cada columna Test: ', data_test.isnull().sum())"
   ]
  },
  {
   "cell_type": "code",
   "execution_count": 142,
   "metadata": {},
   "outputs": [],
   "source": [
    "#Transformation data\n",
    "\n",
    "#cambiar valores categoricos de la columna sexo a números\n",
    "data_train['Sex'].replace(['female','male'],[0,1],inplace=True)\n",
    "data_test['Sex'].replace(['female','male'],[0,1],inplace=True)\n",
    "\n",
    "#cambiar valores categoricos de la columna enmarked a números\n",
    "data_train['Embarked'].replace(['Q','S', 'C'],[0,1,2],inplace=True)\n",
    "data_test['Embarked'].replace(['Q','S', 'C'],[0,1,2],inplace=True)\n",
    "\n",
    "#calcular la media de los valores faltantes de la columna\n",
    "#age de train, test y columna fare de test\n",
    "data_train[\"Age\"].mean()\n",
    "data_test[\"Age\"].mean()\n",
    "data_test[\"Fare\"].mean()\n",
    "\n",
    "promedio_edad = 30\n",
    "promedio_fare = 35\n",
    "\n",
    "data_train['Age'] = data_train['Age'].fillna(promedio_edad).to_pandas()\n",
    "data_test['Age'] = data_train['Age'].fillna(promedio_edad).to_pandas()\n",
    "data_test['Fare'] = data_train['Fare'].fillna(promedio_fare).to_pandas()\n",
    "\n",
    "#Eliminar columnas innecesarias, ya que algunas contienen muchos datos faltantes\n",
    "data_train.drop_column('Cabin')\n",
    "data_test.drop_column('Cabin')\n",
    "\n",
    "#eliminar filas con los datos perdidos\n",
    "data_train.dropna(axis=0, how='any')\n",
    "data_test.dropna(axis=0, how='any')\n",
    "\n",
    "data_train['FamilySize'] = data_train['SibSp'] + data_train['Parch'] + 1\n",
    "data_test['FamilySize'] = data_test['SibSp'] + data_test['Parch'] + 1\n",
    "\n",
    "#eliminar filas con los datos perdidos nuevamente\n",
    "data_train.dropna(axis=0, how='any')\n",
    "data_test.dropna(axis=0, how='any')\n",
    "\n",
    "data_train.drop_column('Ticket')\n",
    "data_test.drop_column('Ticket')\n",
    "data_test.drop_column('PassengerId')\n",
    "data_train.drop_column('Name')\n",
    "data_test.drop_column('Name')"
   ]
  },
  {
   "cell_type": "code",
   "execution_count": null,
   "metadata": {},
   "outputs": [],
   "source": [
    "data_train.head()"
   ]
  },
  {
   "cell_type": "code",
   "execution_count": null,
   "metadata": {},
   "outputs": [],
   "source": [
    "data_test.head()"
   ]
  },
  {
   "cell_type": "code",
   "execution_count": null,
   "metadata": {},
   "outputs": [],
   "source": [
    "#Data Splitting with cuml\n",
    "import cupy as cp\n",
    "from cuml.preprocessing.model_selection import train_test_split\n",
    "\n",
    "#Separacion de columnas Sobrevivientes de dataTrain\n",
    "gdf_dataX = data_train.drop(['Survived'])\n",
    "gdf_dataY = data_train[\"Survived\"]\n",
    "\n",
    "#Divide datasets in train and test\n",
    "#datatrain 80% and datatest 20%\n",
    "X_train, X_test, y_train, y_test = train_test_split(gdf_dataX, gdf_dataY, train_size=0.8)\n",
    "\n",
    "#information\n",
    "print(f'Original datasets: {gdf_dataX.shape[0], gdf_dataY.shape[0]} elements')\n",
    "print(f'Data X_train: {X_train.shape[0]} elements')\n",
    "print(f'Data X_test: {X_test.shape[0]} elements')\n",
    "print(f'Data y_train: {y_train.shape[0]} elements')\n",
    "print(f'Data y_test: {y_test.shape[0]} elements')"
   ]
  },
  {
   "cell_type": "code",
   "execution_count": null,
   "metadata": {},
   "outputs": [],
   "source": [
    "data_train.dtypes"
   ]
  },
  {
   "cell_type": "code",
   "execution_count": null,
   "metadata": {},
   "outputs": [],
   "source": [
    "import cupy as cp\n",
    "\n",
    "from cuml.preprocessing.LabelEncoder import LabelEncoder\n",
    "\n",
    "le = LabelEncoder()\n",
    "sex = le.fit_transform(X_train.Sex)\n",
    "\n",
    "\n",
    "\n",
    "#data_Train = X_train.as_gpu_matrix()"
   ]
  },
  {
   "cell_type": "code",
   "execution_count": null,
   "metadata": {},
   "outputs": [],
   "source": [
    "import cupy as cp\n",
    "from cuml.preprocessing import LabelBinarizer\n",
    "from cuml import LinearRegression\n",
    "from cuml.linear_model import LinearRegression\n",
    "\n",
    "lr = LinearRegression(fit_intercept = True, normalize = False,\n",
    "                      algorithm = \"eig\")\n",
    "\n",
    "reg = lr.fit(X_train,y_train)"
   ]
  },
  {
   "cell_type": "code",
   "execution_count": null,
   "metadata": {},
   "outputs": [],
   "source": [
    "#Crear bandas de edades\n",
    "bandas = [0,8,15,18,25,30,50,80,100]\n",
    "nombres = ['niños_pequeños','niños_grandes','adolecente','adulto','adultogrande','anciano']\n",
    "\n",
    "#Categoria par train y test\n",
    "data_train['Age'] = cudf.Series(data_train['Age'], dtype='category')\n",
    "data_test['Age'] = cudf.Series(data_test['Age'], dtype='category')\n",
    "\n",
    "#Agregar las nuevas categorias a train y test\n",
    "data_train['Age'].cat.add_categories(bandas, labels=nombres)\n",
    "data_test['Age'].cat.add_categories(bandas, labels=nombres)"
   ]
  },
  {
   "cell_type": "code",
   "execution_count": null,
   "metadata": {},
   "outputs": [],
   "source": [
    "data_trainAge = data_train['Age'].to_frame()\n",
    "data_testAge = data_test['Age'].to_frame()"
   ]
  },
  {
   "cell_type": "code",
   "execution_count": null,
   "metadata": {},
   "outputs": [],
   "source": [
    "data_trainNuevo = data_train.merge([data_train, data_train.drop(data_train['Age'])], axis=1)"
   ]
  }
 ],
 "metadata": {
  "kernelspec": {
   "display_name": "RAPIDS Stable",
   "language": "python",
   "name": "rapids-stable"
  },
  "language_info": {
   "codemirror_mode": {
    "name": "ipython",
    "version": 3
   },
   "file_extension": ".py",
   "mimetype": "text/x-python",
   "name": "python",
   "nbconvert_exporter": "python",
   "pygments_lexer": "ipython3",
   "version": "3.7.6"
  }
 },
 "nbformat": 4,
 "nbformat_minor": 4
}
