{
  "nbformat": 4,
  "nbformat_minor": 0,
  "metadata": {
    "colab": {
      "name": "rapids",
      "provenance": [],
      "collapsed_sections": [],
      "authorship_tag": "ABX9TyOZwd6BcmcOk7N3+kMgHBfR",
      "include_colab_link": true
    },
    "kernelspec": {
      "name": "python3",
      "display_name": "Python 3"
    },
    "accelerator": "GPU"
  },
  "cells": [
    {
      "cell_type": "markdown",
      "metadata": {
        "id": "view-in-github",
        "colab_type": "text"
      },
      "source": [
        "<a href=\"https://colab.research.google.com/github/JoseGuarnizo/RAPIDS/blob/master/rapids.ipynb\" target=\"_parent\"><img src=\"https://colab.research.google.com/assets/colab-badge.svg\" alt=\"Open In Colab\"/></a>"
      ]
    },
    {
      "cell_type": "code",
      "metadata": {
        "id": "DFfBpLbcPhJu",
        "colab_type": "code",
        "colab": {}
      },
      "source": [
        "!nvidia-smi"
      ],
      "execution_count": null,
      "outputs": []
    },
    {
      "cell_type": "code",
      "metadata": {
        "id": "ltIiFR8VTHdj",
        "colab_type": "code",
        "colab": {}
      },
      "source": [
        "# Install RAPIDS\n",
        "!git clone https://github.com/rapidsai/rapidsai-csp-utils.git\n",
        "!bash rapidsai-csp-utils/colab/rapids-colab.sh stable\n",
        "\n",
        "import sys, os\n",
        "\n",
        "dist_package_index = sys.path.index('/usr/local/lib/python3.6/dist-packages')\n",
        "sys.path = sys.path[:dist_package_index] + ['/usr/local/lib/python3.6/site-packages'] + sys.path[dist_package_index:]\n",
        "sys.path\n",
        "exec(open('rapidsai-csp-utils/colab/update_modules.py').read(), globals())"
      ],
      "execution_count": null,
      "outputs": []
    },
    {
      "cell_type": "code",
      "metadata": {
        "id": "thCKoOHOVW4f",
        "colab_type": "code",
        "colab": {}
      },
      "source": [
        "import nvstrings, nvcategory, cudf\n",
        "import json\n",
        "from pandas.io.json import json_normalize \n",
        "import numpy as np\n",
        "import pandas as pd \n",
        "from io import StringIO\n",
        "import dask_cudf"
      ],
      "execution_count": null,
      "outputs": []
    },
    {
      "cell_type": "code",
      "metadata": {
        "id": "2G1YwzvsVg8v",
        "colab_type": "code",
        "colab": {}
      },
      "source": [
        "#Cargar data desde la maquina local a colab\n",
        "from google.colab import files\n",
        "\n",
        "carga = files.upload()"
      ],
      "execution_count": null,
      "outputs": []
    },
    {
      "cell_type": "code",
      "metadata": {
        "id": "Za7pZ4gGImNZ",
        "colab_type": "code",
        "colab": {}
      },
      "source": [
        "#Lectura con dask_cudf\n",
        "nuevo_df = dask_cudf.read_csv('df.csv')"
      ],
      "execution_count": null,
      "outputs": []
    },
    {
      "cell_type": "code",
      "metadata": {
        "id": "0tM1LgeDIcaQ",
        "colab_type": "code",
        "colab": {}
      },
      "source": [
        "#lectura con pandas\n",
        "s = time.time()\n",
        "pdf = pd.read_csv('df.csv', names='uno')\n",
        "e = time.time()\n",
        "pdtime = e-s\n",
        "print('Tiempo de extraccion con pandas:'.format(pdtime))"
      ],
      "execution_count": null,
      "outputs": []
    },
    {
      "cell_type": "code",
      "metadata": {
        "id": "1FS2e_siLA2G",
        "colab_type": "code",
        "colab": {}
      },
      "source": [
        "#lectura con cudf\n",
        "s = time.time()\n",
        "df = cudf.read_csv('df.csv', names='uno')\n",
        "e = time.time()\n",
        "cudftime = e-s\n",
        "print('Tiempo de extraccion con cudf:'.format(cudftime))"
      ],
      "execution_count": null,
      "outputs": []
    },
    {
      "cell_type": "code",
      "metadata": {
        "id": "NXvhmuY7Il4F",
        "colab_type": "code",
        "colab": {}
      },
      "source": [
        "#crear dataframe con cudf\n",
        "gdf = cudf.DataFrame.from_pandas(pdf)\n",
        "gdf"
      ],
      "execution_count": null,
      "outputs": []
    },
    {
      "cell_type": "code",
      "metadata": {
        "id": "PQ65KYNgImGt",
        "colab_type": "code",
        "colab": {}
      },
      "source": [
        "#lista al gdf\n",
        "lista = list(pdf['u'])\n",
        "lista"
      ],
      "execution_count": null,
      "outputs": []
    },
    {
      "cell_type": "code",
      "metadata": {
        "id": "JhNEq0RKImXW",
        "colab_type": "code",
        "colab": {}
      },
      "source": [
        "#crear un formato json para despues crear el dataframe\n",
        "a = []\n",
        "for i in range(0,len(lista)):\n",
        "    d = lista[i].split('.gz:')\n",
        "    nuevo = d[1]\n",
        "    a.append(json.loads((nuevo)))\n",
        "a"
      ],
      "execution_count": null,
      "outputs": []
    },
    {
      "cell_type": "code",
      "metadata": {
        "id": "xFJW8BqEUUIF",
        "colab_type": "code",
        "colab": {}
      },
      "source": [
        "pdPandas = pd.DataFrame(a)\n",
        "\n",
        "#Convierto todo a str para que funcione el traspaso de\n",
        "#Pandas a cudf, si no convierto me lanza errores y no se puede\n",
        "#convertir a datframe cudf.\n",
        "nuevo_pdPandas = pdPandas.applymap(str)"
      ],
      "execution_count": null,
      "outputs": []
    },
    {
      "cell_type": "code",
      "metadata": {
        "id": "kkYT3wBEUgWb",
        "colab_type": "code",
        "colab": {}
      },
      "source": [
        "gdf = cudf.DataFrame.from_pandas(nuevo_pdPandas)\n",
        "gdf.head()"
      ],
      "execution_count": null,
      "outputs": []
    },
    {
      "cell_type": "code",
      "metadata": {
        "id": "dRnCk76MN3me",
        "colab_type": "code",
        "colab": {}
      },
      "source": [
        "#delete column accept_lenguaje, agent, page, session,\n",
        "#event_type\n",
        "gdf = gdf.drop('context')"
      ],
      "execution_count": null,
      "outputs": []
    },
    {
      "cell_type": "code",
      "metadata": {
        "id": "kWHANUxSIDg-",
        "colab_type": "code",
        "colab": {}
      },
      "source": [
        "gdf = gdf.drop('event')"
      ],
      "execution_count": null,
      "outputs": []
    },
    {
      "cell_type": "code",
      "metadata": {
        "id": "ybxkNTOgepqO",
        "colab_type": "code",
        "colab": {}
      },
      "source": [
        "gdf.head()"
      ],
      "execution_count": null,
      "outputs": []
    }
  ]
}